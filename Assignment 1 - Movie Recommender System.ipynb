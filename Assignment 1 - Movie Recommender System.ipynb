{
 "cells": [
  {
   "cell_type": "code",
<<<<<<< HEAD
   "execution_count": 130,
=======
   "execution_count": 1,
>>>>>>> b9d10c0e4a29703410465a957a2721756286b4eb
   "metadata": {},
   "outputs": [],
   "source": [
    "# Importing Libraries\n",
    " \n",
    "import os\n",
    "import numpy as np\n",
    "import pandas as pd\n",
    "\n",
    "import matplotlib.pyplot as plt\n",
    "import seaborn as sns\n",
    "sns.set_style('white')\n",
    "%matplotlib inline"
   ]
  },
  {
   "cell_type": "markdown",
   "metadata": {},
   "source": [
    "## Data Loading & Exploration"
   ]
  },
  {
   "cell_type": "code",
   "execution_count": 2,
   "metadata": {},
   "outputs": [],
   "source": [
    "df = pd.read_csv('ratings.csv')"
   ]
  },
  {
   "cell_type": "code",
   "execution_count": 3,
   "metadata": {},
   "outputs": [
    {
     "data": {
      "text/plain": [
       "(100836, 4)"
      ]
     },
     "execution_count": 3,
     "metadata": {},
     "output_type": "execute_result"
    }
   ],
   "source": [
    "df.shape"
   ]
  },
  {
   "cell_type": "code",
   "execution_count": 4,
   "metadata": {},
   "outputs": [
    {
     "data": {
      "text/plain": [
       "False"
      ]
     },
     "execution_count": 4,
     "metadata": {},
     "output_type": "execute_result"
    }
   ],
   "source": [
    "df.duplicated().any()"
   ]
  },
  {
   "cell_type": "code",
   "execution_count": 5,
   "metadata": {},
   "outputs": [
    {
     "name": "stdout",
     "output_type": "stream",
     "text": [
      "Missing Values\n",
      "\n",
      "userId       0\n",
      "movieId      0\n",
      "rating       0\n",
      "timestamp    0\n",
      "dtype: int64\n"
     ]
    }
   ],
   "source": [
    "# Finding any missing Values\n",
    "print(f\"Missing Values\\n\")\n",
    "\n",
    "print(f\"{df.isnull().sum()}\")"
   ]
  },
  {
   "cell_type": "code",
   "execution_count": 6,
   "metadata": {},
   "outputs": [
    {
     "name": "stdout",
     "output_type": "stream",
     "text": [
      "Data Types\n",
      "\n",
      "userId         int64\n",
      "movieId        int64\n",
      "rating       float64\n",
      "timestamp      int64\n",
      "dtype: object\n",
      "\n"
     ]
    }
   ],
   "source": [
    "# Printing data types\n",
    "print(\"Data Types\\n\")\n",
    "print(f\"{df.dtypes}\\n\")"
   ]
  },
  {
   "cell_type": "code",
   "execution_count": 7,
   "metadata": {},
   "outputs": [],
   "source": [
    "df.columns = ['userId', 'movieId', 'rating', 'timestamp']"
   ]
  },
  {
   "cell_type": "code",
   "execution_count": 10,
   "metadata": {},
   "outputs": [],
   "source": [
    "# Getting ratings that are above 0\n",
    "df = df[df['rating'] > 0]"
   ]
  },
  {
   "cell_type": "code",
   "execution_count": 9,
   "metadata": {},
   "outputs": [
    {
     "data": {
      "text/plain": [
       "(100836, 4)"
      ]
     },
     "execution_count": 9,
     "metadata": {},
     "output_type": "execute_result"
    }
   ],
   "source": [
    "df.shape"
   ]
  },
  {
   "cell_type": "code",
   "execution_count": 11,
   "metadata": {},
   "outputs": [
    {
     "data": {
      "text/html": [
       "<div>\n",
       "<style scoped>\n",
       "    .dataframe tbody tr th:only-of-type {\n",
       "        vertical-align: middle;\n",
       "    }\n",
       "\n",
       "    .dataframe tbody tr th {\n",
       "        vertical-align: top;\n",
       "    }\n",
       "\n",
       "    .dataframe thead th {\n",
       "        text-align: right;\n",
       "    }\n",
       "</style>\n",
       "<table border=\"1\" class=\"dataframe\">\n",
       "  <thead>\n",
       "    <tr style=\"text-align: right;\">\n",
       "      <th></th>\n",
       "      <th>userId</th>\n",
       "      <th>movieId</th>\n",
       "      <th>rating</th>\n",
       "      <th>timestamp</th>\n",
       "    </tr>\n",
       "  </thead>\n",
       "  <tbody>\n",
       "    <tr>\n",
       "      <th>0</th>\n",
       "      <td>1</td>\n",
       "      <td>1</td>\n",
       "      <td>4.0</td>\n",
       "      <td>964982703</td>\n",
       "    </tr>\n",
       "    <tr>\n",
       "      <th>1</th>\n",
       "      <td>1</td>\n",
       "      <td>3</td>\n",
       "      <td>4.0</td>\n",
       "      <td>964981247</td>\n",
       "    </tr>\n",
       "    <tr>\n",
       "      <th>2</th>\n",
       "      <td>1</td>\n",
       "      <td>6</td>\n",
       "      <td>4.0</td>\n",
       "      <td>964982224</td>\n",
       "    </tr>\n",
       "    <tr>\n",
       "      <th>3</th>\n",
       "      <td>1</td>\n",
       "      <td>47</td>\n",
       "      <td>5.0</td>\n",
       "      <td>964983815</td>\n",
       "    </tr>\n",
       "    <tr>\n",
       "      <th>4</th>\n",
       "      <td>1</td>\n",
       "      <td>50</td>\n",
       "      <td>5.0</td>\n",
       "      <td>964982931</td>\n",
       "    </tr>\n",
       "  </tbody>\n",
       "</table>\n",
       "</div>"
      ],
      "text/plain": [
       "   userId  movieId  rating  timestamp\n",
       "0       1        1     4.0  964982703\n",
       "1       1        3     4.0  964981247\n",
       "2       1        6     4.0  964982224\n",
       "3       1       47     5.0  964983815\n",
       "4       1       50     5.0  964982931"
      ]
     },
     "execution_count": 11,
     "metadata": {},
     "output_type": "execute_result"
    }
   ],
   "source": [
    "df.head()"
   ]
  },
  {
   "cell_type": "code",
   "execution_count": 12,
   "metadata": {},
   "outputs": [],
   "source": [
    "# Getting movie title\n",
    "mv_t = pd.read_csv('movies.csv')"
   ]
  },
  {
   "cell_type": "code",
   "execution_count": 13,
   "metadata": {},
   "outputs": [
    {
     "data": {
      "text/html": [
       "<div>\n",
       "<style scoped>\n",
       "    .dataframe tbody tr th:only-of-type {\n",
       "        vertical-align: middle;\n",
       "    }\n",
       "\n",
       "    .dataframe tbody tr th {\n",
       "        vertical-align: top;\n",
       "    }\n",
       "\n",
       "    .dataframe thead th {\n",
       "        text-align: right;\n",
       "    }\n",
       "</style>\n",
       "<table border=\"1\" class=\"dataframe\">\n",
       "  <thead>\n",
       "    <tr style=\"text-align: right;\">\n",
       "      <th></th>\n",
       "      <th>movieId</th>\n",
       "      <th>title</th>\n",
       "      <th>genres</th>\n",
       "    </tr>\n",
       "  </thead>\n",
       "  <tbody>\n",
       "    <tr>\n",
       "      <th>0</th>\n",
       "      <td>1</td>\n",
       "      <td>Toy Story (1995)</td>\n",
       "      <td>Adventure|Animation|Children|Comedy|Fantasy</td>\n",
       "    </tr>\n",
       "    <tr>\n",
       "      <th>1</th>\n",
       "      <td>2</td>\n",
       "      <td>Jumanji (1995)</td>\n",
       "      <td>Adventure|Children|Fantasy</td>\n",
       "    </tr>\n",
       "    <tr>\n",
       "      <th>2</th>\n",
       "      <td>3</td>\n",
       "      <td>Grumpier Old Men (1995)</td>\n",
       "      <td>Comedy|Romance</td>\n",
       "    </tr>\n",
       "    <tr>\n",
       "      <th>3</th>\n",
       "      <td>4</td>\n",
       "      <td>Waiting to Exhale (1995)</td>\n",
       "      <td>Comedy|Drama|Romance</td>\n",
       "    </tr>\n",
       "    <tr>\n",
       "      <th>4</th>\n",
       "      <td>5</td>\n",
       "      <td>Father of the Bride Part II (1995)</td>\n",
       "      <td>Comedy</td>\n",
       "    </tr>\n",
       "  </tbody>\n",
       "</table>\n",
       "</div>"
      ],
      "text/plain": [
       "   movieId                               title  \\\n",
       "0        1                    Toy Story (1995)   \n",
       "1        2                      Jumanji (1995)   \n",
       "2        3             Grumpier Old Men (1995)   \n",
       "3        4            Waiting to Exhale (1995)   \n",
       "4        5  Father of the Bride Part II (1995)   \n",
       "\n",
       "                                        genres  \n",
       "0  Adventure|Animation|Children|Comedy|Fantasy  \n",
       "1                   Adventure|Children|Fantasy  \n",
       "2                               Comedy|Romance  \n",
       "3                         Comedy|Drama|Romance  \n",
       "4                                       Comedy  "
      ]
     },
     "execution_count": 13,
     "metadata": {},
     "output_type": "execute_result"
    }
   ],
   "source": [
    "mv_t.head()"
   ]
  },
  {
   "cell_type": "code",
   "execution_count": 14,
   "metadata": {},
   "outputs": [],
   "source": [
    "# Merging movies data with ratings data by their MovieID\n",
    "df = pd.merge(df,mv_t,on='movieId')"
   ]
  },
  {
   "cell_type": "code",
   "execution_count": 19,
   "metadata": {},
   "outputs": [
    {
     "data": {
      "text/html": [
       "<div>\n",
       "<style scoped>\n",
       "    .dataframe tbody tr th:only-of-type {\n",
       "        vertical-align: middle;\n",
       "    }\n",
       "\n",
       "    .dataframe tbody tr th {\n",
       "        vertical-align: top;\n",
       "    }\n",
       "\n",
       "    .dataframe thead th {\n",
       "        text-align: right;\n",
       "    }\n",
       "</style>\n",
       "<table border=\"1\" class=\"dataframe\">\n",
       "  <thead>\n",
       "    <tr style=\"text-align: right;\">\n",
       "      <th></th>\n",
       "      <th>userId</th>\n",
       "      <th>movieId</th>\n",
       "      <th>rating</th>\n",
       "      <th>timestamp</th>\n",
       "      <th>title</th>\n",
       "      <th>genres</th>\n",
       "    </tr>\n",
       "  </thead>\n",
       "  <tbody>\n",
       "    <tr>\n",
       "      <th>0</th>\n",
       "      <td>1</td>\n",
       "      <td>1</td>\n",
       "      <td>4.0</td>\n",
       "      <td>964982703</td>\n",
       "      <td>Toy Story (1995)</td>\n",
       "      <td>Adventure|Animation|Children|Comedy|Fantasy</td>\n",
       "    </tr>\n",
       "    <tr>\n",
       "      <th>1</th>\n",
       "      <td>5</td>\n",
       "      <td>1</td>\n",
       "      <td>4.0</td>\n",
       "      <td>847434962</td>\n",
       "      <td>Toy Story (1995)</td>\n",
       "      <td>Adventure|Animation|Children|Comedy|Fantasy</td>\n",
       "    </tr>\n",
       "    <tr>\n",
       "      <th>2</th>\n",
       "      <td>7</td>\n",
       "      <td>1</td>\n",
       "      <td>4.5</td>\n",
       "      <td>1106635946</td>\n",
       "      <td>Toy Story (1995)</td>\n",
       "      <td>Adventure|Animation|Children|Comedy|Fantasy</td>\n",
       "    </tr>\n",
       "    <tr>\n",
       "      <th>3</th>\n",
       "      <td>15</td>\n",
       "      <td>1</td>\n",
       "      <td>2.5</td>\n",
       "      <td>1510577970</td>\n",
       "      <td>Toy Story (1995)</td>\n",
       "      <td>Adventure|Animation|Children|Comedy|Fantasy</td>\n",
       "    </tr>\n",
       "    <tr>\n",
       "      <th>4</th>\n",
       "      <td>17</td>\n",
       "      <td>1</td>\n",
       "      <td>4.5</td>\n",
       "      <td>1305696483</td>\n",
       "      <td>Toy Story (1995)</td>\n",
       "      <td>Adventure|Animation|Children|Comedy|Fantasy</td>\n",
       "    </tr>\n",
       "  </tbody>\n",
       "</table>\n",
       "</div>"
      ],
      "text/plain": [
       "   userId  movieId  rating   timestamp             title  \\\n",
       "0       1        1     4.0   964982703  Toy Story (1995)   \n",
       "1       5        1     4.0   847434962  Toy Story (1995)   \n",
       "2       7        1     4.5  1106635946  Toy Story (1995)   \n",
       "3      15        1     2.5  1510577970  Toy Story (1995)   \n",
       "4      17        1     4.5  1305696483  Toy Story (1995)   \n",
       "\n",
       "                                        genres  \n",
       "0  Adventure|Animation|Children|Comedy|Fantasy  \n",
       "1  Adventure|Animation|Children|Comedy|Fantasy  \n",
       "2  Adventure|Animation|Children|Comedy|Fantasy  \n",
       "3  Adventure|Animation|Children|Comedy|Fantasy  \n",
       "4  Adventure|Animation|Children|Comedy|Fantasy  "
      ]
     },
     "execution_count": 19,
     "metadata": {},
     "output_type": "execute_result"
    }
   ],
   "source": [
    "df.head()"
   ]
  },
  {
   "cell_type": "markdown",
   "metadata": {},
   "source": [
    "## Exploratory Data Analysis"
   ]
  },
  {
   "cell_type": "code",
   "execution_count": 16,
   "metadata": {},
   "outputs": [
    {
     "data": {
      "text/plain": [
       "title\n",
       "Karlson Returns (1970)                           5.0\n",
       "Winter in Prostokvashino (1984)                  5.0\n",
       "My Love (2006)                                   5.0\n",
       "Sorority House Massacre II (1990)                5.0\n",
       "Winnie the Pooh and the Day of Concern (1972)    5.0\n",
       "Name: rating, dtype: float64"
      ]
     },
     "execution_count": 16,
     "metadata": {},
     "output_type": "execute_result"
    }
   ],
   "source": [
    "# Grouping title by its mean ratings\n",
    "df.groupby('title')['rating'].mean().sort_values(ascending=False).head()"
   ]
  },
  {
   "cell_type": "code",
   "execution_count": 17,
   "metadata": {},
   "outputs": [
    {
     "data": {
      "text/plain": [
       "title\n",
       "Forrest Gump (1994)                 329\n",
       "Shawshank Redemption, The (1994)    317\n",
       "Pulp Fiction (1994)                 307\n",
       "Silence of the Lambs, The (1991)    279\n",
       "Matrix, The (1999)                  278\n",
       "Name: rating, dtype: int64"
      ]
     },
     "execution_count": 17,
     "metadata": {},
     "output_type": "execute_result"
    }
   ],
   "source": [
    "# Grouping titles by its ratings count (given by user)\n",
    "df.groupby('title')['rating'].count().sort_values(ascending=False).head()"
   ]
  },
  {
   "cell_type": "code",
<<<<<<< HEAD
   "execution_count": 85,
=======
   "execution_count": 21,
>>>>>>> b9d10c0e4a29703410465a957a2721756286b4eb
   "metadata": {},
   "outputs": [
    {
     "data": {
      "text/html": [
       "<div>\n",
       "<style scoped>\n",
       "    .dataframe tbody tr th:only-of-type {\n",
       "        vertical-align: middle;\n",
       "    }\n",
       "\n",
       "    .dataframe tbody tr th {\n",
       "        vertical-align: top;\n",
       "    }\n",
       "\n",
       "    .dataframe thead th {\n",
       "        text-align: right;\n",
       "    }\n",
       "</style>\n",
       "<table border=\"1\" class=\"dataframe\">\n",
       "  <thead>\n",
       "    <tr style=\"text-align: right;\">\n",
       "      <th></th>\n",
       "      <th>rating</th>\n",
       "    </tr>\n",
       "    <tr>\n",
       "      <th>title</th>\n",
       "      <th></th>\n",
       "    </tr>\n",
       "  </thead>\n",
       "  <tbody>\n",
       "    <tr>\n",
       "      <th>'71 (2014)</th>\n",
       "      <td>4.0</td>\n",
       "    </tr>\n",
       "    <tr>\n",
       "      <th>'Hellboy': The Seeds of Creation (2004)</th>\n",
       "      <td>4.0</td>\n",
       "    </tr>\n",
       "    <tr>\n",
       "      <th>'Round Midnight (1986)</th>\n",
       "      <td>3.5</td>\n",
       "    </tr>\n",
       "    <tr>\n",
       "      <th>'Salem's Lot (2004)</th>\n",
       "      <td>5.0</td>\n",
       "    </tr>\n",
       "    <tr>\n",
       "      <th>'Til There Was You (1997)</th>\n",
       "      <td>4.0</td>\n",
       "    </tr>\n",
       "  </tbody>\n",
       "</table>\n",
       "</div>"
      ],
      "text/plain": [
       "                                         rating\n",
       "title                                          \n",
       "'71 (2014)                                  4.0\n",
       "'Hellboy': The Seeds of Creation (2004)     4.0\n",
       "'Round Midnight (1986)                      3.5\n",
       "'Salem's Lot (2004)                         5.0\n",
       "'Til There Was You (1997)                   4.0"
      ]
     },
<<<<<<< HEAD
     "execution_count": 85,
=======
     "execution_count": 21,
>>>>>>> b9d10c0e4a29703410465a957a2721756286b4eb
     "metadata": {},
     "output_type": "execute_result"
    }
   ],
   "source": [
    "ratings = pd.DataFrame(df.groupby('title')['rating'].mean())\n",
    "ratings.head()"
   ]
  },
  {
   "cell_type": "code",
<<<<<<< HEAD
   "execution_count": 86,
=======
   "execution_count": 22,
>>>>>>> b9d10c0e4a29703410465a957a2721756286b4eb
   "metadata": {},
   "outputs": [],
   "source": [
    "# Creating a new column which include how many ratings are given by users for each movie\n",
    "ratings['Ratings Count'] = pd.DataFrame(df.groupby('title')['rating'].count())"
   ]
  },
  {
   "cell_type": "code",
<<<<<<< HEAD
   "execution_count": 87,
=======
   "execution_count": 23,
>>>>>>> b9d10c0e4a29703410465a957a2721756286b4eb
   "metadata": {},
   "outputs": [
    {
     "data": {
      "text/html": [
       "<div>\n",
       "<style scoped>\n",
       "    .dataframe tbody tr th:only-of-type {\n",
       "        vertical-align: middle;\n",
       "    }\n",
       "\n",
       "    .dataframe tbody tr th {\n",
       "        vertical-align: top;\n",
       "    }\n",
       "\n",
       "    .dataframe thead th {\n",
       "        text-align: right;\n",
       "    }\n",
       "</style>\n",
       "<table border=\"1\" class=\"dataframe\">\n",
       "  <thead>\n",
       "    <tr style=\"text-align: right;\">\n",
       "      <th></th>\n",
       "      <th>rating</th>\n",
       "      <th>Ratings Count</th>\n",
       "    </tr>\n",
       "    <tr>\n",
       "      <th>title</th>\n",
       "      <th></th>\n",
       "      <th></th>\n",
       "    </tr>\n",
       "  </thead>\n",
       "  <tbody>\n",
       "    <tr>\n",
<<<<<<< HEAD
       "      <th>Forrest Gump (1994)</th>\n",
       "      <td>4.164134</td>\n",
       "      <td>329</td>\n",
       "    </tr>\n",
       "    <tr>\n",
       "      <th>Shawshank Redemption, The (1994)</th>\n",
       "      <td>4.429022</td>\n",
       "      <td>317</td>\n",
       "    </tr>\n",
       "    <tr>\n",
       "      <th>Pulp Fiction (1994)</th>\n",
       "      <td>4.197068</td>\n",
       "      <td>307</td>\n",
       "    </tr>\n",
       "    <tr>\n",
       "      <th>Silence of the Lambs, The (1991)</th>\n",
       "      <td>4.161290</td>\n",
       "      <td>279</td>\n",
       "    </tr>\n",
       "    <tr>\n",
       "      <th>Matrix, The (1999)</th>\n",
       "      <td>4.192446</td>\n",
       "      <td>278</td>\n",
       "    </tr>\n",
       "    <tr>\n",
       "      <th>Star Wars: Episode IV - A New Hope (1977)</th>\n",
       "      <td>4.231076</td>\n",
       "      <td>251</td>\n",
       "    </tr>\n",
       "    <tr>\n",
       "      <th>Jurassic Park (1993)</th>\n",
       "      <td>3.750000</td>\n",
       "      <td>238</td>\n",
       "    </tr>\n",
       "    <tr>\n",
       "      <th>Braveheart (1995)</th>\n",
       "      <td>4.031646</td>\n",
       "      <td>237</td>\n",
       "    </tr>\n",
       "    <tr>\n",
       "      <th>Terminator 2: Judgment Day (1991)</th>\n",
       "      <td>3.970982</td>\n",
       "      <td>224</td>\n",
       "    </tr>\n",
       "    <tr>\n",
       "      <th>Schindler's List (1993)</th>\n",
       "      <td>4.225000</td>\n",
       "      <td>220</td>\n",
       "    </tr>\n",
       "  </tbody>\n",
       "</table>\n",
       "</div>"
      ],
      "text/plain": [
       "                                             rating  Ratings Count\n",
       "title                                                             \n",
       "Forrest Gump (1994)                        4.164134            329\n",
       "Shawshank Redemption, The (1994)           4.429022            317\n",
       "Pulp Fiction (1994)                        4.197068            307\n",
       "Silence of the Lambs, The (1991)           4.161290            279\n",
       "Matrix, The (1999)                         4.192446            278\n",
       "Star Wars: Episode IV - A New Hope (1977)  4.231076            251\n",
       "Jurassic Park (1993)                       3.750000            238\n",
       "Braveheart (1995)                          4.031646            237\n",
       "Terminator 2: Judgment Day (1991)          3.970982            224\n",
       "Schindler's List (1993)                    4.225000            220"
      ]
     },
     "execution_count": 87,
     "metadata": {},
     "output_type": "execute_result"
    }
   ],
   "source": [
    "ratings.sort_values('Ratings Count',ascending=False).head(10)"
   ]
  },
  {
   "cell_type": "code",
   "execution_count": 96,
   "metadata": {},
   "outputs": [
    {
     "data": {
      "text/html": [
       "<div>\n",
       "<style scoped>\n",
       "    .dataframe tbody tr th:only-of-type {\n",
       "        vertical-align: middle;\n",
       "    }\n",
       "\n",
       "    .dataframe tbody tr th {\n",
       "        vertical-align: top;\n",
       "    }\n",
       "\n",
       "    .dataframe thead th {\n",
       "        text-align: right;\n",
       "    }\n",
       "</style>\n",
       "<table border=\"1\" class=\"dataframe\">\n",
       "  <thead>\n",
       "    <tr style=\"text-align: right;\">\n",
       "      <th></th>\n",
       "      <th>rating</th>\n",
       "      <th>Ratings Count</th>\n",
       "    </tr>\n",
       "    <tr>\n",
       "      <th>title</th>\n",
       "      <th></th>\n",
       "      <th></th>\n",
       "    </tr>\n",
       "  </thead>\n",
       "  <tbody>\n",
       "    <tr>\n",
       "      <th>10 Things I Hate About You (1999)</th>\n",
       "      <td>3.527778</td>\n",
       "      <td>54</td>\n",
       "    </tr>\n",
       "    <tr>\n",
       "      <th>12 Angry Men (1957)</th>\n",
       "      <td>4.149123</td>\n",
       "      <td>57</td>\n",
       "    </tr>\n",
       "    <tr>\n",
       "      <th>2001: A Space Odyssey (1968)</th>\n",
       "      <td>3.894495</td>\n",
       "      <td>109</td>\n",
       "    </tr>\n",
       "    <tr>\n",
       "      <th>28 Days Later (2002)</th>\n",
       "      <td>3.974138</td>\n",
       "      <td>58</td>\n",
       "    </tr>\n",
       "    <tr>\n",
       "      <th>300 (2007)</th>\n",
       "      <td>3.681250</td>\n",
       "      <td>80</td>\n",
       "    </tr>\n",
       "    <tr>\n",
       "      <th>...</th>\n",
       "      <td>...</td>\n",
       "      <td>...</td>\n",
       "    </tr>\n",
       "    <tr>\n",
       "      <th>X-Men: The Last Stand (2006)</th>\n",
       "      <td>3.355769</td>\n",
       "      <td>52</td>\n",
       "    </tr>\n",
       "    <tr>\n",
       "      <th>X2: X-Men United (2003)</th>\n",
       "      <td>3.723684</td>\n",
       "      <td>76</td>\n",
       "    </tr>\n",
       "    <tr>\n",
       "      <th>Young Frankenstein (1974)</th>\n",
       "      <td>3.992754</td>\n",
       "      <td>69</td>\n",
       "    </tr>\n",
       "    <tr>\n",
       "      <th>Zombieland (2009)</th>\n",
       "      <td>3.877358</td>\n",
       "      <td>53</td>\n",
       "    </tr>\n",
       "    <tr>\n",
       "      <th>Zoolander (2001)</th>\n",
       "      <td>3.509259</td>\n",
       "      <td>54</td>\n",
       "    </tr>\n",
       "  </tbody>\n",
       "</table>\n",
       "<p>437 rows × 2 columns</p>\n",
       "</div>"
      ],
      "text/plain": [
       "                                     rating  Ratings Count\n",
       "title                                                     \n",
       "10 Things I Hate About You (1999)  3.527778             54\n",
       "12 Angry Men (1957)                4.149123             57\n",
       "2001: A Space Odyssey (1968)       3.894495            109\n",
       "28 Days Later (2002)               3.974138             58\n",
       "300 (2007)                         3.681250             80\n",
       "...                                     ...            ...\n",
       "X-Men: The Last Stand (2006)       3.355769             52\n",
       "X2: X-Men United (2003)            3.723684             76\n",
       "Young Frankenstein (1974)          3.992754             69\n",
       "Zombieland (2009)                  3.877358             53\n",
       "Zoolander (2001)                   3.509259             54\n",
       "\n",
       "[437 rows x 2 columns]"
      ]
     },
     "execution_count": 96,
=======
       "      <th>'71 (2014)</th>\n",
       "      <td>4.0</td>\n",
       "      <td>1</td>\n",
       "    </tr>\n",
       "    <tr>\n",
       "      <th>'Hellboy': The Seeds of Creation (2004)</th>\n",
       "      <td>4.0</td>\n",
       "      <td>1</td>\n",
       "    </tr>\n",
       "    <tr>\n",
       "      <th>'Round Midnight (1986)</th>\n",
       "      <td>3.5</td>\n",
       "      <td>2</td>\n",
       "    </tr>\n",
       "    <tr>\n",
       "      <th>'Salem's Lot (2004)</th>\n",
       "      <td>5.0</td>\n",
       "      <td>1</td>\n",
       "    </tr>\n",
       "    <tr>\n",
       "      <th>'Til There Was You (1997)</th>\n",
       "      <td>4.0</td>\n",
       "      <td>2</td>\n",
       "    </tr>\n",
       "  </tbody>\n",
       "</table>\n",
       "</div>"
      ],
      "text/plain": [
       "                                         rating  Ratings Count\n",
       "title                                                         \n",
       "'71 (2014)                                  4.0              1\n",
       "'Hellboy': The Seeds of Creation (2004)     4.0              1\n",
       "'Round Midnight (1986)                      3.5              2\n",
       "'Salem's Lot (2004)                         5.0              1\n",
       "'Til There Was You (1997)                   4.0              2"
      ]
     },
     "execution_count": 23,
>>>>>>> b9d10c0e4a29703410465a957a2721756286b4eb
     "metadata": {},
     "output_type": "execute_result"
    }
   ],
   "source": [
<<<<<<< HEAD
    "ratings_over_X = ratings[ratings['Ratings Count'] > 50]\n",
    "ratings_over_X"
=======
    "ratings.head()"
>>>>>>> b9d10c0e4a29703410465a957a2721756286b4eb
   ]
  },
  {
   "cell_type": "code",
<<<<<<< HEAD
   "execution_count": 97,
=======
   "execution_count": 26,
>>>>>>> b9d10c0e4a29703410465a957a2721756286b4eb
   "metadata": {},
   "outputs": [
    {
     "data": {
      "text/plain": [
<<<<<<< HEAD
       "<matplotlib.axes._subplots.AxesSubplot at 0x28f3a208b08>"
      ]
     },
     "execution_count": 97,
=======
       "<matplotlib.axes._subplots.AxesSubplot at 0x28f3430ef08>"
      ]
     },
     "execution_count": 26,
>>>>>>> b9d10c0e4a29703410465a957a2721756286b4eb
     "metadata": {},
     "output_type": "execute_result"
    },
    {
     "data": {
<<<<<<< HEAD
      "image/png": "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\n",
=======
      "image/png": "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\n",
>>>>>>> b9d10c0e4a29703410465a957a2721756286b4eb
      "text/plain": [
       "<Figure size 864x432 with 1 Axes>"
      ]
     },
     "metadata": {
      "needs_background": "light"
     },
     "output_type": "display_data"
    }
   ],
   "source": [
    "# Plotting ratings given by users for each movies\n",
    "plt.figure(figsize=(12,6))\n",
<<<<<<< HEAD
    "ratings_over_X['Ratings Count'].hist(bins=70)"
=======
    "ratings['Ratings Count'].hist(bins=70)"
>>>>>>> b9d10c0e4a29703410465a957a2721756286b4eb
   ]
  },
  {
   "cell_type": "code",
   "execution_count": 27,
   "metadata": {},
   "outputs": [
    {
     "data": {
      "text/plain": [
       "<matplotlib.axes._subplots.AxesSubplot at 0x28f3447fa08>"
      ]
     },
     "execution_count": 27,
     "metadata": {},
     "output_type": "execute_result"
    },
    {
     "data": {
      "image/png": "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\n",
      "text/plain": [
       "<Figure size 864x432 with 1 Axes>"
      ]
     },
     "metadata": {
      "needs_background": "light"
     },
     "output_type": "display_data"
    }
   ],
   "source": [
    "# Plotting distribution of ratings given by users\n",
    "plt.figure(figsize=(12,6))\n",
    "ratings['rating'].hist(bins=70)"
   ]
  },
  {
   "cell_type": "code",
<<<<<<< HEAD
   "execution_count": 98,
=======
   "execution_count": 28,
>>>>>>> b9d10c0e4a29703410465a957a2721756286b4eb
   "metadata": {},
   "outputs": [
    {
     "data": {
      "text/plain": [
<<<<<<< HEAD
       "<seaborn.axisgrid.JointGrid at 0x28f3a382508>"
      ]
     },
     "execution_count": 98,
=======
       "<seaborn.axisgrid.JointGrid at 0x28f33cbb8c8>"
      ]
     },
     "execution_count": 28,
>>>>>>> b9d10c0e4a29703410465a957a2721756286b4eb
     "metadata": {},
     "output_type": "execute_result"
    },
    {
     "data": {
<<<<<<< HEAD
      "image/png": "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\n",
=======
      "image/png": "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\n",
>>>>>>> b9d10c0e4a29703410465a957a2721756286b4eb
      "text/plain": [
       "<Figure size 432x432 with 3 Axes>"
      ]
     },
     "metadata": {
      "needs_background": "light"
     },
     "output_type": "display_data"
    }
   ],
   "source": [
<<<<<<< HEAD
    "sns.jointplot(x='rating',y='Ratings Count',data=ratings_over_X,alpha=0.5)"
=======
    "sns.jointplot(x='rating',y='Ratings Count',data=ratings,alpha=0.5)"
>>>>>>> b9d10c0e4a29703410465a957a2721756286b4eb
   ]
  },
  {
   "cell_type": "markdown",
   "metadata": {},
   "source": [
    "## Recommending Movies"
   ]
  },
  {
   "cell_type": "code",
   "execution_count": 29,
   "metadata": {},
   "outputs": [],
   "source": [
    "#Creating a matrix which has user ids on y axis and movie title on x axis. \n",
    "#Each cell now consists of rating give by a specific user to a specific movie."
   ]
  },
  {
   "cell_type": "code",
<<<<<<< HEAD
   "execution_count": 123,
=======
   "execution_count": 30,
>>>>>>> b9d10c0e4a29703410465a957a2721756286b4eb
   "metadata": {},
   "outputs": [],
   "source": [
    "mv_matrix = df.pivot_table(index='userId',columns='title',values='rating')"
   ]
  },
  {
   "cell_type": "code",
<<<<<<< HEAD
   "execution_count": 124,
=======
   "execution_count": 31,
>>>>>>> b9d10c0e4a29703410465a957a2721756286b4eb
   "metadata": {},
   "outputs": [
    {
     "data": {
      "text/html": [
       "<div>\n",
       "<style scoped>\n",
       "    .dataframe tbody tr th:only-of-type {\n",
       "        vertical-align: middle;\n",
       "    }\n",
       "\n",
       "    .dataframe tbody tr th {\n",
       "        vertical-align: top;\n",
       "    }\n",
       "\n",
       "    .dataframe thead th {\n",
       "        text-align: right;\n",
       "    }\n",
       "</style>\n",
       "<table border=\"1\" class=\"dataframe\">\n",
       "  <thead>\n",
       "    <tr style=\"text-align: right;\">\n",
       "      <th>title</th>\n",
       "      <th>'71 (2014)</th>\n",
       "      <th>'Hellboy': The Seeds of Creation (2004)</th>\n",
       "      <th>'Round Midnight (1986)</th>\n",
       "      <th>'Salem's Lot (2004)</th>\n",
       "      <th>'Til There Was You (1997)</th>\n",
       "      <th>'Tis the Season for Love (2015)</th>\n",
       "      <th>'burbs, The (1989)</th>\n",
       "      <th>'night Mother (1986)</th>\n",
       "      <th>(500) Days of Summer (2009)</th>\n",
       "      <th>*batteries not included (1987)</th>\n",
       "      <th>...</th>\n",
       "      <th>Zulu (2013)</th>\n",
       "      <th>[REC] (2007)</th>\n",
       "      <th>[REC]² (2009)</th>\n",
       "      <th>[REC]³ 3 Génesis (2012)</th>\n",
       "      <th>anohana: The Flower We Saw That Day - The Movie (2013)</th>\n",
       "      <th>eXistenZ (1999)</th>\n",
       "      <th>xXx (2002)</th>\n",
       "      <th>xXx: State of the Union (2005)</th>\n",
       "      <th>¡Three Amigos! (1986)</th>\n",
       "      <th>À nous la liberté (Freedom for Us) (1931)</th>\n",
       "    </tr>\n",
       "    <tr>\n",
       "      <th>userId</th>\n",
       "      <th></th>\n",
       "      <th></th>\n",
       "      <th></th>\n",
       "      <th></th>\n",
       "      <th></th>\n",
       "      <th></th>\n",
       "      <th></th>\n",
       "      <th></th>\n",
       "      <th></th>\n",
       "      <th></th>\n",
       "      <th></th>\n",
       "      <th></th>\n",
       "      <th></th>\n",
       "      <th></th>\n",
       "      <th></th>\n",
       "      <th></th>\n",
       "      <th></th>\n",
       "      <th></th>\n",
       "      <th></th>\n",
       "      <th></th>\n",
       "      <th></th>\n",
       "    </tr>\n",
       "  </thead>\n",
       "  <tbody>\n",
       "    <tr>\n",
       "      <th>1</th>\n",
       "      <td>NaN</td>\n",
       "      <td>NaN</td>\n",
       "      <td>NaN</td>\n",
       "      <td>NaN</td>\n",
       "      <td>NaN</td>\n",
       "      <td>NaN</td>\n",
       "      <td>NaN</td>\n",
       "      <td>NaN</td>\n",
       "      <td>NaN</td>\n",
       "      <td>NaN</td>\n",
       "      <td>...</td>\n",
       "      <td>NaN</td>\n",
       "      <td>NaN</td>\n",
       "      <td>NaN</td>\n",
       "      <td>NaN</td>\n",
       "      <td>NaN</td>\n",
       "      <td>NaN</td>\n",
       "      <td>NaN</td>\n",
       "      <td>NaN</td>\n",
       "      <td>4.0</td>\n",
       "      <td>NaN</td>\n",
       "    </tr>\n",
       "    <tr>\n",
       "      <th>2</th>\n",
       "      <td>NaN</td>\n",
       "      <td>NaN</td>\n",
       "      <td>NaN</td>\n",
       "      <td>NaN</td>\n",
       "      <td>NaN</td>\n",
       "      <td>NaN</td>\n",
       "      <td>NaN</td>\n",
       "      <td>NaN</td>\n",
       "      <td>NaN</td>\n",
       "      <td>NaN</td>\n",
       "      <td>...</td>\n",
       "      <td>NaN</td>\n",
       "      <td>NaN</td>\n",
       "      <td>NaN</td>\n",
       "      <td>NaN</td>\n",
       "      <td>NaN</td>\n",
       "      <td>NaN</td>\n",
       "      <td>NaN</td>\n",
       "      <td>NaN</td>\n",
       "      <td>NaN</td>\n",
       "      <td>NaN</td>\n",
       "    </tr>\n",
       "    <tr>\n",
       "      <th>3</th>\n",
       "      <td>NaN</td>\n",
       "      <td>NaN</td>\n",
       "      <td>NaN</td>\n",
       "      <td>NaN</td>\n",
       "      <td>NaN</td>\n",
       "      <td>NaN</td>\n",
       "      <td>NaN</td>\n",
       "      <td>NaN</td>\n",
       "      <td>NaN</td>\n",
       "      <td>NaN</td>\n",
       "      <td>...</td>\n",
       "      <td>NaN</td>\n",
       "      <td>NaN</td>\n",
       "      <td>NaN</td>\n",
       "      <td>NaN</td>\n",
       "      <td>NaN</td>\n",
       "      <td>NaN</td>\n",
       "      <td>NaN</td>\n",
       "      <td>NaN</td>\n",
       "      <td>NaN</td>\n",
       "      <td>NaN</td>\n",
       "    </tr>\n",
       "    <tr>\n",
       "      <th>4</th>\n",
       "      <td>NaN</td>\n",
       "      <td>NaN</td>\n",
       "      <td>NaN</td>\n",
       "      <td>NaN</td>\n",
       "      <td>NaN</td>\n",
       "      <td>NaN</td>\n",
       "      <td>NaN</td>\n",
       "      <td>NaN</td>\n",
       "      <td>NaN</td>\n",
       "      <td>NaN</td>\n",
       "      <td>...</td>\n",
       "      <td>NaN</td>\n",
       "      <td>NaN</td>\n",
       "      <td>NaN</td>\n",
       "      <td>NaN</td>\n",
       "      <td>NaN</td>\n",
       "      <td>NaN</td>\n",
       "      <td>NaN</td>\n",
       "      <td>NaN</td>\n",
       "      <td>NaN</td>\n",
       "      <td>NaN</td>\n",
       "    </tr>\n",
       "    <tr>\n",
       "      <th>5</th>\n",
       "      <td>NaN</td>\n",
       "      <td>NaN</td>\n",
       "      <td>NaN</td>\n",
       "      <td>NaN</td>\n",
       "      <td>NaN</td>\n",
       "      <td>NaN</td>\n",
       "      <td>NaN</td>\n",
       "      <td>NaN</td>\n",
       "      <td>NaN</td>\n",
       "      <td>NaN</td>\n",
       "      <td>...</td>\n",
       "      <td>NaN</td>\n",
       "      <td>NaN</td>\n",
       "      <td>NaN</td>\n",
       "      <td>NaN</td>\n",
       "      <td>NaN</td>\n",
       "      <td>NaN</td>\n",
       "      <td>NaN</td>\n",
       "      <td>NaN</td>\n",
       "      <td>NaN</td>\n",
       "      <td>NaN</td>\n",
       "    </tr>\n",
       "    <tr>\n",
<<<<<<< HEAD
       "      <th>...</th>\n",
       "      <td>...</td>\n",
       "      <td>...</td>\n",
       "      <td>...</td>\n",
       "      <td>...</td>\n",
       "      <td>...</td>\n",
       "      <td>...</td>\n",
       "      <td>...</td>\n",
       "      <td>...</td>\n",
       "      <td>...</td>\n",
       "      <td>...</td>\n",
       "      <td>...</td>\n",
       "      <td>...</td>\n",
       "      <td>...</td>\n",
       "      <td>...</td>\n",
       "      <td>...</td>\n",
       "      <td>...</td>\n",
       "      <td>...</td>\n",
       "      <td>...</td>\n",
       "      <td>...</td>\n",
       "      <td>...</td>\n",
       "      <td>...</td>\n",
       "    </tr>\n",
       "    <tr>\n",
       "      <th>606</th>\n",
=======
       "      <th>6</th>\n",
>>>>>>> b9d10c0e4a29703410465a957a2721756286b4eb
       "      <td>NaN</td>\n",
       "      <td>NaN</td>\n",
       "      <td>NaN</td>\n",
       "      <td>NaN</td>\n",
       "      <td>NaN</td>\n",
       "      <td>NaN</td>\n",
       "      <td>NaN</td>\n",
       "      <td>NaN</td>\n",
       "      <td>NaN</td>\n",
       "      <td>NaN</td>\n",
       "      <td>...</td>\n",
       "      <td>NaN</td>\n",
       "      <td>NaN</td>\n",
       "      <td>NaN</td>\n",
       "      <td>NaN</td>\n",
       "      <td>NaN</td>\n",
       "      <td>NaN</td>\n",
       "      <td>NaN</td>\n",
       "      <td>NaN</td>\n",
       "      <td>NaN</td>\n",
       "      <td>NaN</td>\n",
       "    </tr>\n",
       "    <tr>\n",
<<<<<<< HEAD
       "      <th>607</th>\n",
=======
       "      <th>7</th>\n",
>>>>>>> b9d10c0e4a29703410465a957a2721756286b4eb
       "      <td>NaN</td>\n",
       "      <td>NaN</td>\n",
       "      <td>NaN</td>\n",
       "      <td>NaN</td>\n",
       "      <td>NaN</td>\n",
       "      <td>NaN</td>\n",
       "      <td>NaN</td>\n",
       "      <td>NaN</td>\n",
       "      <td>NaN</td>\n",
       "      <td>NaN</td>\n",
       "      <td>...</td>\n",
       "      <td>NaN</td>\n",
       "      <td>NaN</td>\n",
       "      <td>NaN</td>\n",
       "      <td>NaN</td>\n",
       "      <td>NaN</td>\n",
       "      <td>NaN</td>\n",
       "      <td>NaN</td>\n",
       "      <td>NaN</td>\n",
       "      <td>NaN</td>\n",
       "      <td>NaN</td>\n",
       "    </tr>\n",
       "    <tr>\n",
<<<<<<< HEAD
       "      <th>608</th>\n",
=======
       "      <th>8</th>\n",
>>>>>>> b9d10c0e4a29703410465a957a2721756286b4eb
       "      <td>NaN</td>\n",
       "      <td>NaN</td>\n",
       "      <td>NaN</td>\n",
       "      <td>NaN</td>\n",
       "      <td>NaN</td>\n",
       "      <td>NaN</td>\n",
       "      <td>NaN</td>\n",
       "      <td>NaN</td>\n",
       "      <td>NaN</td>\n",
       "      <td>NaN</td>\n",
       "      <td>...</td>\n",
       "      <td>NaN</td>\n",
       "      <td>NaN</td>\n",
       "      <td>NaN</td>\n",
       "      <td>NaN</td>\n",
       "      <td>NaN</td>\n",
<<<<<<< HEAD
       "      <td>4.5</td>\n",
       "      <td>3.5</td>\n",
=======
       "      <td>NaN</td>\n",
       "      <td>NaN</td>\n",
>>>>>>> b9d10c0e4a29703410465a957a2721756286b4eb
       "      <td>NaN</td>\n",
       "      <td>NaN</td>\n",
       "      <td>NaN</td>\n",
       "    </tr>\n",
       "    <tr>\n",
<<<<<<< HEAD
       "      <th>609</th>\n",
=======
       "      <th>9</th>\n",
>>>>>>> b9d10c0e4a29703410465a957a2721756286b4eb
       "      <td>NaN</td>\n",
       "      <td>NaN</td>\n",
       "      <td>NaN</td>\n",
       "      <td>NaN</td>\n",
       "      <td>NaN</td>\n",
       "      <td>NaN</td>\n",
       "      <td>NaN</td>\n",
       "      <td>NaN</td>\n",
       "      <td>NaN</td>\n",
       "      <td>NaN</td>\n",
       "      <td>...</td>\n",
       "      <td>NaN</td>\n",
       "      <td>NaN</td>\n",
       "      <td>NaN</td>\n",
       "      <td>NaN</td>\n",
       "      <td>NaN</td>\n",
       "      <td>NaN</td>\n",
<<<<<<< HEAD
       "      <td>NaN</td>\n",
=======
       "      <td>1.0</td>\n",
>>>>>>> b9d10c0e4a29703410465a957a2721756286b4eb
       "      <td>NaN</td>\n",
       "      <td>NaN</td>\n",
       "      <td>NaN</td>\n",
       "    </tr>\n",
       "    <tr>\n",
<<<<<<< HEAD
       "      <th>610</th>\n",
       "      <td>4.0</td>\n",
=======
       "      <th>10</th>\n",
       "      <td>NaN</td>\n",
       "      <td>NaN</td>\n",
>>>>>>> b9d10c0e4a29703410465a957a2721756286b4eb
       "      <td>NaN</td>\n",
       "      <td>NaN</td>\n",
       "      <td>NaN</td>\n",
       "      <td>NaN</td>\n",
       "      <td>NaN</td>\n",
       "      <td>NaN</td>\n",
       "      <td>NaN</td>\n",
<<<<<<< HEAD
       "      <td>3.5</td>\n",
       "      <td>NaN</td>\n",
       "      <td>...</td>\n",
       "      <td>NaN</td>\n",
       "      <td>4.0</td>\n",
       "      <td>3.5</td>\n",
       "      <td>3.0</td>\n",
       "      <td>NaN</td>\n",
       "      <td>NaN</td>\n",
       "      <td>2.0</td>\n",
       "      <td>1.5</td>\n",
=======
       "      <td>NaN</td>\n",
       "      <td>...</td>\n",
       "      <td>NaN</td>\n",
       "      <td>NaN</td>\n",
       "      <td>NaN</td>\n",
       "      <td>NaN</td>\n",
       "      <td>NaN</td>\n",
       "      <td>NaN</td>\n",
       "      <td>NaN</td>\n",
       "      <td>NaN</td>\n",
>>>>>>> b9d10c0e4a29703410465a957a2721756286b4eb
       "      <td>NaN</td>\n",
       "      <td>NaN</td>\n",
       "    </tr>\n",
       "  </tbody>\n",
       "</table>\n",
<<<<<<< HEAD
       "<p>610 rows × 9719 columns</p>\n",
=======
       "<p>10 rows × 9719 columns</p>\n",
>>>>>>> b9d10c0e4a29703410465a957a2721756286b4eb
       "</div>"
      ],
      "text/plain": [
       "title   '71 (2014)  'Hellboy': The Seeds of Creation (2004)  \\\n",
       "userId                                                        \n",
       "1              NaN                                      NaN   \n",
       "2              NaN                                      NaN   \n",
       "3              NaN                                      NaN   \n",
       "4              NaN                                      NaN   \n",
       "5              NaN                                      NaN   \n",
<<<<<<< HEAD
       "...            ...                                      ...   \n",
       "606            NaN                                      NaN   \n",
       "607            NaN                                      NaN   \n",
       "608            NaN                                      NaN   \n",
       "609            NaN                                      NaN   \n",
       "610            4.0                                      NaN   \n",
=======
       "6              NaN                                      NaN   \n",
       "7              NaN                                      NaN   \n",
       "8              NaN                                      NaN   \n",
       "9              NaN                                      NaN   \n",
       "10             NaN                                      NaN   \n",
>>>>>>> b9d10c0e4a29703410465a957a2721756286b4eb
       "\n",
       "title   'Round Midnight (1986)  'Salem's Lot (2004)  \\\n",
       "userId                                                \n",
       "1                          NaN                  NaN   \n",
       "2                          NaN                  NaN   \n",
       "3                          NaN                  NaN   \n",
       "4                          NaN                  NaN   \n",
       "5                          NaN                  NaN   \n",
<<<<<<< HEAD
       "...                        ...                  ...   \n",
       "606                        NaN                  NaN   \n",
       "607                        NaN                  NaN   \n",
       "608                        NaN                  NaN   \n",
       "609                        NaN                  NaN   \n",
       "610                        NaN                  NaN   \n",
=======
       "6                          NaN                  NaN   \n",
       "7                          NaN                  NaN   \n",
       "8                          NaN                  NaN   \n",
       "9                          NaN                  NaN   \n",
       "10                         NaN                  NaN   \n",
>>>>>>> b9d10c0e4a29703410465a957a2721756286b4eb
       "\n",
       "title   'Til There Was You (1997)  'Tis the Season for Love (2015)  \\\n",
       "userId                                                               \n",
       "1                             NaN                              NaN   \n",
       "2                             NaN                              NaN   \n",
       "3                             NaN                              NaN   \n",
       "4                             NaN                              NaN   \n",
       "5                             NaN                              NaN   \n",
<<<<<<< HEAD
       "...                           ...                              ...   \n",
       "606                           NaN                              NaN   \n",
       "607                           NaN                              NaN   \n",
       "608                           NaN                              NaN   \n",
       "609                           NaN                              NaN   \n",
       "610                           NaN                              NaN   \n",
=======
       "6                             NaN                              NaN   \n",
       "7                             NaN                              NaN   \n",
       "8                             NaN                              NaN   \n",
       "9                             NaN                              NaN   \n",
       "10                            NaN                              NaN   \n",
>>>>>>> b9d10c0e4a29703410465a957a2721756286b4eb
       "\n",
       "title   'burbs, The (1989)  'night Mother (1986)  (500) Days of Summer (2009)  \\\n",
       "userId                                                                          \n",
       "1                      NaN                   NaN                          NaN   \n",
       "2                      NaN                   NaN                          NaN   \n",
       "3                      NaN                   NaN                          NaN   \n",
       "4                      NaN                   NaN                          NaN   \n",
       "5                      NaN                   NaN                          NaN   \n",
<<<<<<< HEAD
       "...                    ...                   ...                          ...   \n",
       "606                    NaN                   NaN                          NaN   \n",
       "607                    NaN                   NaN                          NaN   \n",
       "608                    NaN                   NaN                          NaN   \n",
       "609                    NaN                   NaN                          NaN   \n",
       "610                    NaN                   NaN                          3.5   \n",
=======
       "6                      NaN                   NaN                          NaN   \n",
       "7                      NaN                   NaN                          NaN   \n",
       "8                      NaN                   NaN                          NaN   \n",
       "9                      NaN                   NaN                          NaN   \n",
       "10                     NaN                   NaN                          NaN   \n",
>>>>>>> b9d10c0e4a29703410465a957a2721756286b4eb
       "\n",
       "title   *batteries not included (1987)  ...  Zulu (2013)  [REC] (2007)  \\\n",
       "userId                                  ...                              \n",
       "1                                  NaN  ...          NaN           NaN   \n",
       "2                                  NaN  ...          NaN           NaN   \n",
       "3                                  NaN  ...          NaN           NaN   \n",
       "4                                  NaN  ...          NaN           NaN   \n",
       "5                                  NaN  ...          NaN           NaN   \n",
<<<<<<< HEAD
       "...                                ...  ...          ...           ...   \n",
       "606                                NaN  ...          NaN           NaN   \n",
       "607                                NaN  ...          NaN           NaN   \n",
       "608                                NaN  ...          NaN           NaN   \n",
       "609                                NaN  ...          NaN           NaN   \n",
       "610                                NaN  ...          NaN           4.0   \n",
=======
       "6                                  NaN  ...          NaN           NaN   \n",
       "7                                  NaN  ...          NaN           NaN   \n",
       "8                                  NaN  ...          NaN           NaN   \n",
       "9                                  NaN  ...          NaN           NaN   \n",
       "10                                 NaN  ...          NaN           NaN   \n",
>>>>>>> b9d10c0e4a29703410465a957a2721756286b4eb
       "\n",
       "title   [REC]² (2009)  [REC]³ 3 Génesis (2012)  \\\n",
       "userId                                           \n",
       "1                 NaN                      NaN   \n",
       "2                 NaN                      NaN   \n",
       "3                 NaN                      NaN   \n",
       "4                 NaN                      NaN   \n",
       "5                 NaN                      NaN   \n",
<<<<<<< HEAD
       "...               ...                      ...   \n",
       "606               NaN                      NaN   \n",
       "607               NaN                      NaN   \n",
       "608               NaN                      NaN   \n",
       "609               NaN                      NaN   \n",
       "610               3.5                      3.0   \n",
=======
       "6                 NaN                      NaN   \n",
       "7                 NaN                      NaN   \n",
       "8                 NaN                      NaN   \n",
       "9                 NaN                      NaN   \n",
       "10                NaN                      NaN   \n",
>>>>>>> b9d10c0e4a29703410465a957a2721756286b4eb
       "\n",
       "title   anohana: The Flower We Saw That Day - The Movie (2013)  \\\n",
       "userId                                                           \n",
       "1                                                     NaN        \n",
       "2                                                     NaN        \n",
       "3                                                     NaN        \n",
       "4                                                     NaN        \n",
       "5                                                     NaN        \n",
<<<<<<< HEAD
       "...                                                   ...        \n",
       "606                                                   NaN        \n",
       "607                                                   NaN        \n",
       "608                                                   NaN        \n",
       "609                                                   NaN        \n",
       "610                                                   NaN        \n",
=======
       "6                                                     NaN        \n",
       "7                                                     NaN        \n",
       "8                                                     NaN        \n",
       "9                                                     NaN        \n",
       "10                                                    NaN        \n",
>>>>>>> b9d10c0e4a29703410465a957a2721756286b4eb
       "\n",
       "title   eXistenZ (1999)  xXx (2002)  xXx: State of the Union (2005)  \\\n",
       "userId                                                                \n",
       "1                   NaN         NaN                             NaN   \n",
       "2                   NaN         NaN                             NaN   \n",
       "3                   NaN         NaN                             NaN   \n",
       "4                   NaN         NaN                             NaN   \n",
       "5                   NaN         NaN                             NaN   \n",
<<<<<<< HEAD
       "...                 ...         ...                             ...   \n",
       "606                 NaN         NaN                             NaN   \n",
       "607                 NaN         NaN                             NaN   \n",
       "608                 4.5         3.5                             NaN   \n",
       "609                 NaN         NaN                             NaN   \n",
       "610                 NaN         2.0                             1.5   \n",
=======
       "6                   NaN         NaN                             NaN   \n",
       "7                   NaN         NaN                             NaN   \n",
       "8                   NaN         NaN                             NaN   \n",
       "9                   NaN         1.0                             NaN   \n",
       "10                  NaN         NaN                             NaN   \n",
>>>>>>> b9d10c0e4a29703410465a957a2721756286b4eb
       "\n",
       "title   ¡Three Amigos! (1986)  À nous la liberté (Freedom for Us) (1931)  \n",
       "userId                                                                    \n",
       "1                         4.0                                        NaN  \n",
       "2                         NaN                                        NaN  \n",
       "3                         NaN                                        NaN  \n",
       "4                         NaN                                        NaN  \n",
       "5                         NaN                                        NaN  \n",
<<<<<<< HEAD
       "...                       ...                                        ...  \n",
       "606                       NaN                                        NaN  \n",
       "607                       NaN                                        NaN  \n",
       "608                       NaN                                        NaN  \n",
       "609                       NaN                                        NaN  \n",
       "610                       NaN                                        NaN  \n",
       "\n",
       "[610 rows x 9719 columns]"
      ]
     },
     "execution_count": 124,
     "metadata": {},
     "output_type": "execute_result"
    }
   ],
   "source": [
    "mv_matrix"
   ]
  },
  {
   "cell_type": "code",
   "execution_count": 126,
   "metadata": {},
   "outputs": [
    {
     "data": {
      "text/plain": [
       "<matplotlib.image.AxesImage at 0x28f3c120808>"
      ]
     },
     "execution_count": 126,
     "metadata": {},
     "output_type": "execute_result"
    },
    {
     "data": {
      "image/png": "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\n",
      "text/plain": [
       "<Figure size 1152x720 with 1 Axes>"
      ]
     },
     "metadata": {
      "needs_background": "light"
     },
     "output_type": "display_data"
    }
   ],
   "source": [
    "nan_find = np.isnan(mv_matrix)\n",
    "mv_matrix[nan_find] = 0.0\n",
    "plt.figure(figsize=(16,10))\n",
    "plt.spy(mv_matrix)"
=======
       "6                         NaN                                        NaN  \n",
       "7                         NaN                                        NaN  \n",
       "8                         NaN                                        NaN  \n",
       "9                         NaN                                        NaN  \n",
       "10                        NaN                                        NaN  \n",
       "\n",
       "[10 rows x 9719 columns]"
      ]
     },
     "execution_count": 31,
     "metadata": {},
     "output_type": "execute_result"
    }
   ],
   "source": [
    "mv_matrix.head(10)"
>>>>>>> b9d10c0e4a29703410465a957a2721756286b4eb
   ]
  },
  {
   "cell_type": "code",
   "execution_count": 32,
   "metadata": {},
   "outputs": [],
   "source": [
    "# All the null values (NaN) are empty as most people have not watched all the movies"
   ]
  },
  {
   "cell_type": "code",
   "execution_count": 33,
   "metadata": {},
   "outputs": [],
   "source": [
    "# Top rated movies"
   ]
  },
  {
   "cell_type": "code",
   "execution_count": 34,
   "metadata": {},
   "outputs": [
    {
     "data": {
      "text/html": [
       "<div>\n",
       "<style scoped>\n",
       "    .dataframe tbody tr th:only-of-type {\n",
       "        vertical-align: middle;\n",
       "    }\n",
       "\n",
       "    .dataframe tbody tr th {\n",
       "        vertical-align: top;\n",
       "    }\n",
       "\n",
       "    .dataframe thead th {\n",
       "        text-align: right;\n",
       "    }\n",
       "</style>\n",
       "<table border=\"1\" class=\"dataframe\">\n",
       "  <thead>\n",
       "    <tr style=\"text-align: right;\">\n",
       "      <th></th>\n",
       "      <th>rating</th>\n",
       "      <th>Ratings Count</th>\n",
       "    </tr>\n",
       "    <tr>\n",
       "      <th>title</th>\n",
       "      <th></th>\n",
       "      <th></th>\n",
       "    </tr>\n",
       "  </thead>\n",
       "  <tbody>\n",
       "    <tr>\n",
       "      <th>Forrest Gump (1994)</th>\n",
       "      <td>4.164134</td>\n",
       "      <td>329</td>\n",
       "    </tr>\n",
       "    <tr>\n",
       "      <th>Shawshank Redemption, The (1994)</th>\n",
       "      <td>4.429022</td>\n",
       "      <td>317</td>\n",
       "    </tr>\n",
       "    <tr>\n",
       "      <th>Pulp Fiction (1994)</th>\n",
       "      <td>4.197068</td>\n",
       "      <td>307</td>\n",
       "    </tr>\n",
       "    <tr>\n",
       "      <th>Silence of the Lambs, The (1991)</th>\n",
       "      <td>4.161290</td>\n",
       "      <td>279</td>\n",
       "    </tr>\n",
       "    <tr>\n",
       "      <th>Matrix, The (1999)</th>\n",
       "      <td>4.192446</td>\n",
       "      <td>278</td>\n",
       "    </tr>\n",
       "    <tr>\n",
       "      <th>Star Wars: Episode IV - A New Hope (1977)</th>\n",
       "      <td>4.231076</td>\n",
       "      <td>251</td>\n",
       "    </tr>\n",
       "    <tr>\n",
       "      <th>Jurassic Park (1993)</th>\n",
       "      <td>3.750000</td>\n",
       "      <td>238</td>\n",
       "    </tr>\n",
       "    <tr>\n",
       "      <th>Braveheart (1995)</th>\n",
       "      <td>4.031646</td>\n",
       "      <td>237</td>\n",
       "    </tr>\n",
       "    <tr>\n",
       "      <th>Terminator 2: Judgment Day (1991)</th>\n",
       "      <td>3.970982</td>\n",
       "      <td>224</td>\n",
       "    </tr>\n",
       "    <tr>\n",
       "      <th>Schindler's List (1993)</th>\n",
       "      <td>4.225000</td>\n",
       "      <td>220</td>\n",
       "    </tr>\n",
       "  </tbody>\n",
       "</table>\n",
       "</div>"
      ],
      "text/plain": [
       "                                             rating  Ratings Count\n",
       "title                                                             \n",
       "Forrest Gump (1994)                        4.164134            329\n",
       "Shawshank Redemption, The (1994)           4.429022            317\n",
       "Pulp Fiction (1994)                        4.197068            307\n",
       "Silence of the Lambs, The (1991)           4.161290            279\n",
       "Matrix, The (1999)                         4.192446            278\n",
       "Star Wars: Episode IV - A New Hope (1977)  4.231076            251\n",
       "Jurassic Park (1993)                       3.750000            238\n",
       "Braveheart (1995)                          4.031646            237\n",
       "Terminator 2: Judgment Day (1991)          3.970982            224\n",
       "Schindler's List (1993)                    4.225000            220"
      ]
     },
     "execution_count": 34,
     "metadata": {},
     "output_type": "execute_result"
    }
   ],
   "source": [
    "ratings.sort_values('Ratings Count',ascending=False).head(10)"
   ]
  },
  {
   "cell_type": "code",
   "execution_count": 35,
   "metadata": {},
   "outputs": [],
   "source": [
    "#Getting user ratings for a single movie to find correlations "
   ]
  },
  {
   "cell_type": "code",
<<<<<<< HEAD
   "execution_count": 185,
=======
   "execution_count": 83,
>>>>>>> b9d10c0e4a29703410465a957a2721756286b4eb
   "metadata": {},
   "outputs": [],
   "source": [
    "# Creating a function \n",
    "def getRecommendation(name, num= 10, matrix=mv_matrix):\n",
    "    movie = matrix[name]\n",
    "    \n",
    "    #Using corrwith() to get correlations of the following pandas series\n",
    "    movie_one = matrix.corrwith(movie)\n",
    "    \n",
    "    #Clening the data further to remove NaN values\n",
    "    corr_movie = pd.DataFrame(movie_one, columns=['Correlation'])\n",
    "    corr_movie.dropna(inplace=True)\n",
    "    \n",
    "    #Now we can sort the dataframe by correlation so we can get the similar movies\n",
    "    #corr_movie.sort_values('Correlation', ascending = False)\n",
    "    \n",
    "    # Joining Ratings Count to corr_Forrest_Gump dataframe\n",
    "    corr_movie = corr_movie.join(ratings['Ratings Count'])\n",
    "    \n",
    "    #Filtering out movies that have less than 100 reviews, as it will make a lot more sense\n",
<<<<<<< HEAD
    "    corr_movie = corr_movie[corr_movie['Ratings Count']>50].sort_values('Correlation',ascending=False).head(num+1)\n",
=======
    "    corr_movie = corr_movie[corr_movie['Ratings Count']>100].sort_values('Correlation',ascending=False).head(num)\n",
>>>>>>> b9d10c0e4a29703410465a957a2721756286b4eb
    "    \n",
    "    # Removing first row, because its the movie itself\n",
    "    corr_movie = corr_movie.iloc[1:]\n",
    "    \n",
    "    # Dropping Ratings count column (we dont need it)\n",
    "    corr_movie = corr_movie.drop('Ratings Count', 1)\n",
<<<<<<< HEAD
    "    corr_movie = corr_movie.reset_index()\n",
=======
>>>>>>> b9d10c0e4a29703410465a957a2721756286b4eb
    "    \n",
    "    return corr_movie"
   ]
  },
  {
   "cell_type": "code",
<<<<<<< HEAD
   "execution_count": 186,
   "metadata": {},
   "outputs": [],
   "source": [
    "recommend = getRecommendation('Groundhog Day (1993)', num=10)"
   ]
  },
  {
   "cell_type": "code",
   "execution_count": 187,
   "metadata": {},
   "outputs": [
    {
=======
   "execution_count": 84,
   "metadata": {},
   "outputs": [
    {
     "name": "stderr",
     "output_type": "stream",
     "text": [
      "C:\\Users\\psidd\\anaconda3\\lib\\site-packages\\numpy\\lib\\function_base.py:2526: RuntimeWarning: Degrees of freedom <= 0 for slice\n",
      "  c = cov(x, y, rowvar)\n",
      "C:\\Users\\psidd\\anaconda3\\lib\\site-packages\\numpy\\lib\\function_base.py:2455: RuntimeWarning: divide by zero encountered in true_divide\n",
      "  c *= np.true_divide(1, fact)\n"
     ]
    },
    {
>>>>>>> b9d10c0e4a29703410465a957a2721756286b4eb
     "data": {
      "text/html": [
       "<div>\n",
       "<style scoped>\n",
       "    .dataframe tbody tr th:only-of-type {\n",
       "        vertical-align: middle;\n",
       "    }\n",
       "\n",
       "    .dataframe tbody tr th {\n",
       "        vertical-align: top;\n",
       "    }\n",
       "\n",
       "    .dataframe thead th {\n",
       "        text-align: right;\n",
       "    }\n",
       "</style>\n",
       "<table border=\"1\" class=\"dataframe\">\n",
       "  <thead>\n",
       "    <tr style=\"text-align: right;\">\n",
       "      <th></th>\n",
<<<<<<< HEAD
       "      <th>title</th>\n",
       "      <th>Correlation</th>\n",
       "    </tr>\n",
       "  </thead>\n",
       "  <tbody>\n",
       "    <tr>\n",
       "      <th>0</th>\n",
       "      <td>Ferris Bueller's Day Off (1986)</td>\n",
       "      <td>0.490478</td>\n",
       "    </tr>\n",
       "    <tr>\n",
       "      <th>1</th>\n",
       "      <td>Back to the Future (1985)</td>\n",
       "      <td>0.487406</td>\n",
       "    </tr>\n",
       "    <tr>\n",
       "      <th>2</th>\n",
       "      <td>Being John Malkovich (1999)</td>\n",
       "      <td>0.486789</td>\n",
       "    </tr>\n",
       "    <tr>\n",
       "      <th>3</th>\n",
       "      <td>Monty Python and the Holy Grail (1975)</td>\n",
       "      <td>0.486157</td>\n",
       "    </tr>\n",
       "    <tr>\n",
       "      <th>4</th>\n",
       "      <td>Princess Bride, The (1987)</td>\n",
       "      <td>0.475713</td>\n",
       "    </tr>\n",
       "    <tr>\n",
       "      <th>5</th>\n",
       "      <td>Men in Black (a.k.a. MIB) (1997)</td>\n",
       "      <td>0.467492</td>\n",
       "    </tr>\n",
       "    <tr>\n",
       "      <th>6</th>\n",
       "      <td>Ghostbusters (a.k.a. Ghost Busters) (1984)</td>\n",
       "      <td>0.464628</td>\n",
       "    </tr>\n",
       "    <tr>\n",
       "      <th>7</th>\n",
       "      <td>Austin Powers: International Man of Mystery (1...</td>\n",
       "      <td>0.461074</td>\n",
       "    </tr>\n",
       "    <tr>\n",
       "      <th>8</th>\n",
       "      <td>Total Recall (1990)</td>\n",
       "      <td>0.460165</td>\n",
       "    </tr>\n",
       "    <tr>\n",
       "      <th>9</th>\n",
       "      <td>When Harry Met Sally... (1989)</td>\n",
       "      <td>0.459338</td>\n",
=======
       "      <th>Correlation</th>\n",
       "    </tr>\n",
       "    <tr>\n",
       "      <th>title</th>\n",
       "      <th></th>\n",
       "    </tr>\n",
       "  </thead>\n",
       "  <tbody>\n",
       "    <tr>\n",
       "      <th>Incredibles, The (2004)</th>\n",
       "      <td>0.643301</td>\n",
       "    </tr>\n",
       "    <tr>\n",
       "      <th>Finding Nemo (2003)</th>\n",
       "      <td>0.618701</td>\n",
       "    </tr>\n",
       "    <tr>\n",
       "      <th>Aladdin (1992)</th>\n",
       "      <td>0.611892</td>\n",
       "    </tr>\n",
       "    <tr>\n",
       "      <th>Monsters, Inc. (2001)</th>\n",
       "      <td>0.490231</td>\n",
       "    </tr>\n",
       "    <tr>\n",
       "      <th>Mrs. Doubtfire (1993)</th>\n",
       "      <td>0.446261</td>\n",
       "    </tr>\n",
       "    <tr>\n",
       "      <th>Amelie (Fabuleux destin d'Amélie Poulain, Le) (2001)</th>\n",
       "      <td>0.438237</td>\n",
       "    </tr>\n",
       "    <tr>\n",
       "      <th>American Pie (1999)</th>\n",
       "      <td>0.420117</td>\n",
       "    </tr>\n",
       "    <tr>\n",
       "      <th>Die Hard: With a Vengeance (1995)</th>\n",
       "      <td>0.410939</td>\n",
       "    </tr>\n",
       "    <tr>\n",
       "      <th>E.T. the Extra-Terrestrial (1982)</th>\n",
       "      <td>0.409216</td>\n",
>>>>>>> b9d10c0e4a29703410465a957a2721756286b4eb
       "    </tr>\n",
       "  </tbody>\n",
       "</table>\n",
       "</div>"
      ],
      "text/plain": [
<<<<<<< HEAD
       "                                               title  Correlation\n",
       "0                    Ferris Bueller's Day Off (1986)     0.490478\n",
       "1                          Back to the Future (1985)     0.487406\n",
       "2                        Being John Malkovich (1999)     0.486789\n",
       "3             Monty Python and the Holy Grail (1975)     0.486157\n",
       "4                         Princess Bride, The (1987)     0.475713\n",
       "5                   Men in Black (a.k.a. MIB) (1997)     0.467492\n",
       "6         Ghostbusters (a.k.a. Ghost Busters) (1984)     0.464628\n",
       "7  Austin Powers: International Man of Mystery (1...     0.461074\n",
       "8                                Total Recall (1990)     0.460165\n",
       "9                     When Harry Met Sally... (1989)     0.459338"
      ]
     },
     "execution_count": 187,
=======
       "                                                    Correlation\n",
       "title                                                          \n",
       "Incredibles, The (2004)                                0.643301\n",
       "Finding Nemo (2003)                                    0.618701\n",
       "Aladdin (1992)                                         0.611892\n",
       "Monsters, Inc. (2001)                                  0.490231\n",
       "Mrs. Doubtfire (1993)                                  0.446261\n",
       "Amelie (Fabuleux destin d'Amélie Poulain, Le) (...     0.438237\n",
       "American Pie (1999)                                    0.420117\n",
       "Die Hard: With a Vengeance (1995)                      0.410939\n",
       "E.T. the Extra-Terrestrial (1982)                      0.409216"
      ]
     },
     "execution_count": 84,
>>>>>>> b9d10c0e4a29703410465a957a2721756286b4eb
     "metadata": {},
     "output_type": "execute_result"
    }
   ],
   "source": [
<<<<<<< HEAD
    "recommend"
=======
    "getRecommendation('Toy Story (1995)', num=10)"
>>>>>>> b9d10c0e4a29703410465a957a2721756286b4eb
   ]
  },
  {
   "cell_type": "code",
   "execution_count": null,
   "metadata": {},
   "outputs": [],
   "source": []
  }
 ],
 "metadata": {
  "kernelspec": {
   "display_name": "Python 3",
   "language": "python",
   "name": "python3"
  },
  "language_info": {
   "codemirror_mode": {
    "name": "ipython",
    "version": 3
   },
   "file_extension": ".py",
   "mimetype": "text/x-python",
   "name": "python",
   "nbconvert_exporter": "python",
   "pygments_lexer": "ipython3",
   "version": "3.7.6"
  }
 },
 "nbformat": 4,
 "nbformat_minor": 4
}
